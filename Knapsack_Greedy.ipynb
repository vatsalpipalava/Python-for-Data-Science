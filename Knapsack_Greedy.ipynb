{
 "cells": [
  {
   "cell_type": "code",
   "execution_count": 22,
   "id": "64253e09",
   "metadata": {},
   "outputs": [],
   "source": [
    "class item:\n",
    "    def __init__(self,v,w):\n",
    "        self.v = v\n",
    "        self.w = w"
   ]
  },
  {
   "cell_type": "code",
   "execution_count": 23,
   "id": "52d28ca2",
   "metadata": {},
   "outputs": [],
   "source": [
    "def Knapsake_Greedy(W,n):\n",
    "    n.sort(key=lambda x: (x.v/x.w), reverse=True)\n",
    "    #value in knapsake\n",
    "    totalValue = 0 \n",
    "    for item in n:\n",
    "        if item.w <= W:\n",
    "            W -= item.w\n",
    "            totalValue += item.v\n",
    "        else:\n",
    "            totalValue += item.v * W / item.w\n",
    "            break\n",
    "    return totalValue"
   ]
  },
  {
   "cell_type": "code",
   "execution_count": 24,
   "id": "7a4b4d8d",
   "metadata": {},
   "outputs": [
    {
     "name": "stdout",
     "output_type": "stream",
     "text": [
      "Maximum value we can obtain = 240.0\n"
     ]
    }
   ],
   "source": [
    "if __name__ == \"__main__\":\n",
    "    W = 50\n",
    "    n = [item(60, 10), item(100, 20), item(120, 30)]\n",
    "    max_val = Knapsake_Greedy(W, n)\n",
    "    print ('Maximum value we can obtain = {}'.format(max_val))"
   ]
  },
  {
   "cell_type": "code",
   "execution_count": null,
   "id": "90da5477",
   "metadata": {},
   "outputs": [],
   "source": []
  },
  {
   "cell_type": "code",
   "execution_count": null,
   "id": "b1e26197",
   "metadata": {},
   "outputs": [],
   "source": []
  }
 ],
 "metadata": {
  "kernelspec": {
   "display_name": "Python 3 (ipykernel)",
   "language": "python",
   "name": "python3"
  },
  "language_info": {
   "codemirror_mode": {
    "name": "ipython",
    "version": 3
   },
   "file_extension": ".py",
   "mimetype": "text/x-python",
   "name": "python",
   "nbconvert_exporter": "python",
   "pygments_lexer": "ipython3",
   "version": "3.8.10"
  }
 },
 "nbformat": 4,
 "nbformat_minor": 5
}
