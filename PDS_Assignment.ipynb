{
  "nbformat": 4,
  "nbformat_minor": 0,
  "metadata": {
    "colab": {
      "provenance": [],
      "collapsed_sections": [],
      "authorship_tag": "ABX9TyNeWJ+4RXHjoxoHbBpGcnnh",
      "include_colab_link": true
    },
    "kernelspec": {
      "name": "python3",
      "display_name": "Python 3"
    },
    "language_info": {
      "name": "python"
    }
  },
  "cells": [
    {
      "cell_type": "markdown",
      "metadata": {
        "id": "view-in-github",
        "colab_type": "text"
      },
      "source": [
        "<a href=\"https://colab.research.google.com/github/vatsalpipalava/PDS-Practical-Assignment/blob/main/PDS_Assignment.ipynb\" target=\"_parent\"><img src=\"https://colab.research.google.com/assets/colab-badge.svg\" alt=\"Open In Colab\"/></a>"
      ]
    },
    {
      "cell_type": "markdown",
      "source": [
        "<center><td><img src=\"https://navyugtrust.org/img/icons/trust_logo.png\" width=90 height=90><td><img src=\"https://ckpcet.ac.in/img/logo.svg\"\n",
        "alt=\"CKPCET\" width=100 height=100 /><h4><font face=\"Cambria, Georgia, Times, 'Times New Roman', serif\">C.K.Pithawala College of Engineering and Technology, Surat\n",
        "<br>Subject: Python for Data Science(3150713)\n",
        "<br>Computer Engineering Department\n",
        "<br>\n",
        "<br>Name : Vatsal Mahendrakumar Pipalava\n",
        "<br>Enrollment no. : 200090107053\n",
        "<br>Class : 3rd-Year  5th-SEM\n",
        "<br>Div. : B\n",
        "<br>Acadamic Year : 2022-2023\n",
        "<br>\n",
        "<br>Deta Set : Amazon Top 50 Bestselling Books 2009 - 2019\n",
        "<br><a href=\"https://www.kaggle.com/datasets/sootersaalu/amazon-top-50-bestselling-books-2009-2019\">DataSet Link</a>\n",
        "    </font></h4></td></center>"
      ],
      "metadata": {
        "id": "_g5w8vXqZ5Gu"
      }
    },
    {
      "cell_type": "markdown",
      "source": [
        "<h1>CO-1 ASSIGNMENT</h1>"
      ],
      "metadata": {
        "id": "i4H9OXU3U3_1"
      }
    },
    {
      "cell_type": "markdown",
      "source": [
        "<h2> Practical 1</h2>\n",
        "<p>Write a program to implement the following using operators in Python. start no=110, result=550. Store operators(+,-,*,/,1/x,%,// etc.) in a list. Take a random operator from the list, apply the operation on the start no and result. Store answer in result variable. Take input for a random operator till it is valid input. [Use \n",
        "import random\n",
        "print(random.randint(3, 9))]</p>\n"
      ],
      "metadata": {
        "id": "9wNlTlA2bavf"
      }
    },
    {
      "cell_type": "code",
      "execution_count": null,
      "metadata": {
        "id": "NUWUlxny1dzx",
        "colab": {
          "base_uri": "https://localhost:8080/"
        },
        "outputId": "e62402e2-7fa6-4e07-dd56-13a913b1cbf7"
      },
      "outputs": [
        {
          "output_type": "stream",
          "name": "stdout",
          "text": [
            "Invalid Operator\n"
          ]
        }
      ],
      "source": [
        "#end row of dataset is result\n",
        "#end row/2 is startno\n",
        "\n",
        "\n",
        "startno = 275\n",
        "result= 550\n",
        "\n",
        "operator=['+','-','*','/','%','//']\n",
        "\n",
        "import random\n",
        "\n",
        "while (True):\n",
        "    r=random.randint(0,9)\n",
        "    if(r>=len(operator)):\n",
        "        print(\"Invalid Operator\")\n",
        "        break\n",
        "    else:\n",
        "      rand=str(startno)+str(operator[r])+str(result)\n",
        "      result=eval(rand)\n",
        "      print(\"Result =\",result,\"\\n\")\n",
        "  "
      ]
    },
    {
      "cell_type": "markdown",
      "source": [
        "<h2>Practical 2</h2>\n",
        "<p>Write a program to create the following pattern. Take input for n. \n",
        "for n=5. [ord()-for character to ascii, chr()-for ascii to char]</p>\n",
        "A\n",
        "<br>AB\n",
        "<br>ABC\n",
        "<br>ABCDEF\n",
        "<br>ABCDEFGHIJKL\n"
      ],
      "metadata": {
        "id": "Nm8ZfWHcjmgM"
      }
    },
    {
      "cell_type": "code",
      "source": [
        "n = int(input(\"Enter number of rows: \"))\n",
        "i = 1\n",
        "a = 1\n",
        "for i in range(n):\n",
        "  for j in range(a):\n",
        "    print(chr(65+j),end=\"\")\n",
        "  print()\n",
        "  if (a == 1):\n",
        "    a = 2\n",
        "  else:\n",
        "    while(i!=0):\n",
        "      a=a+i\n",
        "      i=i-1"
      ],
      "metadata": {
        "colab": {
          "base_uri": "https://localhost:8080/"
        },
        "id": "PX1Pt8LBqB0l",
        "outputId": "d622b866-505c-481f-c589-d8f12eeb5129"
      },
      "execution_count": null,
      "outputs": [
        {
          "output_type": "stream",
          "name": "stdout",
          "text": [
            "Enter number of rows: 5\n",
            "A\n",
            "AB\n",
            "ABC\n",
            "ABCDEF\n",
            "ABCDEFGHIJKL\n"
          ]
        }
      ]
    },
    {
      "cell_type": "markdown",
      "source": [
        "<h1>Practical 3</h1>\n",
        "Use list comprehension to create the following output for your dataset items.\n",
        "<br>E.g.my dataset if of car\n",
        "<br>car=[“Swift”, ”BMW”, “Skoda5”, “i10”, “Lamborghini”]\n",
        "<br>Create a new list of indices where the car name has a number in the name.\n",
        "<br>Output for the example: [2, 3]\n"
      ],
      "metadata": {
        "id": "y1zcKAPT5_Ao"
      }
    },
    {
      "cell_type": "code",
      "source": [
        "import re\n",
        "myList=[\"A stolen life\",\"1984\",\"A Wrinkle in time\",\"Allegiant\",\"Born to run\"]\n",
        "print(\"List of shows : \" + str(myList))\n",
        "indices=[i for i,x in enumerate(myList) if re.search(\"[0-9]+\",x)]\n",
        "print(\"Indices where shows have a number in the name : \" + str(indices))"
      ],
      "metadata": {
        "colab": {
          "base_uri": "https://localhost:8080/"
        },
        "id": "A-byXYKt5x9W",
        "outputId": "89c19dd4-daf5-4e5c-d394-151e496ad81b"
      },
      "execution_count": null,
      "outputs": [
        {
          "output_type": "stream",
          "name": "stdout",
          "text": [
            "List of shows : ['A stolen life', '1984', 'A Wrinkle in time', 'Allegiant', 'Born to run']\n",
            "Indices where shows have a number in the name : [1]\n"
          ]
        }
      ]
    },
    {
      "cell_type": "markdown",
      "source": [
        "<h2>Practical 4</h2>\n",
        "Write a program to make a module. Implement\n",
        "<br>(a)method overloading\n",
        "<br>(b)method overriding\n",
        "<br>(c)subclass\n",
        "<br>(d)multilevel inheritance\n",
        "<br>(e)multiple inheritance\n",
        "<br>Use the classes, properties and methods according to your data set. . Import it in other program "
      ],
      "metadata": {
        "id": "ARV4HD6T_MUL"
      }
    },
    {
      "cell_type": "code",
      "source": [],
      "metadata": {
        "id": "9KpD7FW0_R3O"
      },
      "execution_count": null,
      "outputs": []
    },
    {
      "cell_type": "markdown",
      "source": [
        "<h2>Practical 5</h2>\n",
        "Write a program to insert, delete, update, retrieve, indexing, slicing, concatenation, join etc. for string(s) from data of your dataset.  "
      ],
      "metadata": {
        "id": "WU2iyR6N7znE"
      }
    },
    {
      "cell_type": "code",
      "source": [
        "def insert():\n",
        "    global str1\n",
        "    print(\"String before insertion : \" + str1)\n",
        "    \n",
        "    # Enter the string what you want to insert\n",
        "    sub=input(\"Enter the string for insertion : \")\n",
        "\n",
        "    # Enter the position where you want insert string\n",
        "    pos=int(input(\"Enter position for insertion: \"))\n",
        "    \n",
        "    # using list slicing\n",
        "    # Add substring at specific index \n",
        "    temp=str1[:pos]+sub+str1[pos:]\n",
        "    str1=temp\n",
        "    \n",
        "    # print result\n",
        "    print(\"String after insertion : \" + str1)\n",
        "    \n",
        "def delete():\n",
        "    global str1\n",
        "    print(\"String before delete : \" + str1)\n",
        "    str1=\"\"\n",
        "    print(\"String after delete : \" + str1)\n",
        "    \n",
        "def update():\n",
        "    global str1\n",
        "    print(\"String before updating : \" + str1)\n",
        "    str1=input(\"Enter the updated string : \")\n",
        "    print(\"String after updating : \" + str1)\n",
        "    \n",
        "def retrieve():\n",
        "    global str1\n",
        "    print(\"String retrieved : \" + str1)\n",
        "\n",
        "def indexing():\n",
        "    global str1\n",
        "    ch=input(\"Enter the string to get its index : \")\n",
        "    print(\"Index of \"+ch+\" is : \"+str(str1.index(ch)))\n",
        "    \n",
        "def slicing():\n",
        "    global str1\n",
        "    start=int(input(\"Enter start point : \"))\n",
        "    end=int(input(\"Enter end point : \"))\n",
        "    step=int(input(\"Enter step point : \"))\n",
        "    print(str1[start:end:step])\n",
        "    \n",
        "def concatenation():\n",
        "    global str1\n",
        "    print(\"String before concatenation : \" + str1)\n",
        "    temp=input(\"Enter a string for concatenation : \")\n",
        "    str1+=temp\n",
        "    print(\"String after concatenation : \" + str1)\n",
        "    \n",
        "def join_str():\n",
        "    global str1\n",
        "    print(\"String before join : \" + str1)\n",
        "    str2=input(\"Enter join character for string : \")\n",
        "    str1=str2.join(str1)\n",
        "    print(\"String after join : \" + str1)\n",
        "\n",
        "def switch(argument):\n",
        "    switcher={\n",
        "        \"1\":insert,\n",
        "        \"2\":delete,\n",
        "        \"3\":update,\n",
        "        \"4\":retrieve,\n",
        "        \"5\":indexing,\n",
        "        \"6\":slicing,\n",
        "        \"7\":concatenation,\n",
        "        \"8\":join_str,\n",
        "    }\n",
        "    r=switcher.get(argument)()\n",
        "    \n",
        "str1=\"Fifty Shades of Grey\"\n",
        "print(\"String : \" + str1)\n",
        "print()\n",
        "\n",
        "print(\"\"\"Select the operation from the following:\n",
        "1. Insert\n",
        "2. Delete\n",
        "3. Update\n",
        "4. Retrieve\n",
        "5. Indexing\n",
        "6. Slicing\n",
        "7. Concatenation\n",
        "8. Join\n",
        "\"\"\")\n",
        "arg=input(\"Enter numbers to select operation : \")\n",
        "print()\n",
        "\n",
        "switch(arg)"
      ],
      "metadata": {
        "colab": {
          "base_uri": "https://localhost:8080/"
        },
        "id": "jVMFYHONmoqp",
        "outputId": "bf585778-787b-4aed-dfed-29b1762440f8"
      },
      "execution_count": null,
      "outputs": [
        {
          "output_type": "stream",
          "name": "stdout",
          "text": [
            "String : Fifty Shades of Grey\n",
            "\n",
            "Select the operation from the following:\n",
            "1. Insert\n",
            "2. Delete\n",
            "3. Update\n",
            "4. Retrieve\n",
            "5. Indexing\n",
            "6. Slicing\n",
            "7. Concatenation\n",
            "8. Join\n",
            "\n",
            "Enter numbers to select operation : 1\n",
            "\n",
            "String before insertion : Fifty Shades of Grey\n",
            "Enter the string for insertion : Black\n",
            "Enter position for insertion: 16\n",
            "String after insertion : Fifty Shades of BlackGrey\n"
          ]
        }
      ]
    },
    {
      "cell_type": "markdown",
      "source": [
        "<h2>Practical 6</h2>\n",
        "Write a program to insert, delete, update, retrieve, indexing, slicing, concatenation etc. for list(s) from data of your dataset. "
      ],
      "metadata": {
        "id": "3w1pG69X_gqh"
      }
    },
    {
      "cell_type": "code",
      "source": [
        "def insert():\n",
        "    global list1\n",
        "    print(\"List before insertion : \",list1)\n",
        "    \n",
        "    sub=input(\"Enter the string for insertion : \")\n",
        "    pos =int(input(\"Enter the position for insertion : \"))\n",
        "    list1.insert(pos,sub)\n",
        "    \n",
        "    print(\"List after insertion : \",list1)\n",
        "    \n",
        "def delete():\n",
        "    global list1\n",
        "    print(\"List before deletion : \", list1)\n",
        "    list1.remove(input(\"Enter the element to delete : \"))\n",
        "    print(\"List after deletion : \",list1)\n",
        "\n",
        "def update():\n",
        "    global list1\n",
        "    print(\"List before updating : \",list1)\n",
        "    index=list1.index(input(\"Enter the element to be replaced : \"))\n",
        "    list1[index]=input(\"Enter the new element : \")\n",
        "    print(\"List after updating : \",list1)\n",
        "\n",
        "def retrieve():\n",
        "    global list1\n",
        "    print(\"List retrieved : \",list1)\n",
        "    \n",
        "def indexing():\n",
        "    global list1\n",
        "    print(list1.index(input(\"Enter the string to get its index : \")))\n",
        "    \n",
        "def slicing():\n",
        "    global list1\n",
        "    start=int(input(\"Enter the start position : \"))\n",
        "    end=int(input(\"Enter the end position : \"))\n",
        "    step=int(input(\"Enter step : \"))\n",
        "    print(list1[start:end:step])\n",
        "    \n",
        "def concatenation():\n",
        "    global list1\n",
        "    print(\"List before concatenation : \",list1)\n",
        "    list1.append(input(\"Enter element to be concatenated : \"))\n",
        "    print(\"List after concatenation : \",list1)\n",
        "    \n",
        "def join_list():\n",
        "    global list1\n",
        "    print(\"List before concatenation : \" + str(list1))\n",
        "    list1=input(\"Enter the element for join : \").join(list1)\n",
        "    print(\"List after join : \",list1)\n",
        "    \n",
        "def switch(argument):\n",
        "    switcher={\n",
        "        \"1\":insert,\n",
        "        \"2\":delete,\n",
        "        \"3\":update,\n",
        "        \"4\":retrieve,\n",
        "        \"5\":indexing,\n",
        "        \"6\":slicing,\n",
        "        \"7\":concatenation,\n",
        "        \"8\":join_list,\n",
        "    }\n",
        "    r=switcher.get(argument)()\n",
        "    \n",
        "\n",
        "list1=[\"Fifty Shades of Grey\",\"E L James\",\"3.8\",\"14$\"]\n",
        "print(\"List : \" , list1 , \"\\n\")\n",
        "\n",
        "\n",
        "print(\"\"\"Select the operation from the following:\n",
        "1. Insert\n",
        "2. Delete\n",
        "3. Update\n",
        "4. Retrieve\n",
        "5. Indexing\n",
        "6. Slicing\n",
        "7. Concatenation\n",
        "8. Join\n",
        "\"\"\")\n",
        "arg=input(\"Enter numbers to select operation : \")\n",
        "print()\n",
        "\n",
        "switch(arg)"
      ],
      "metadata": {
        "colab": {
          "base_uri": "https://localhost:8080/"
        },
        "id": "xEGQKqbhmu9a",
        "outputId": "ab947ed9-deac-4589-bbe3-b18d4101452a"
      },
      "execution_count": null,
      "outputs": [
        {
          "output_type": "stream",
          "name": "stdout",
          "text": [
            "List :  ['Fifty Shades of Grey', 'E L James', '3.8', '14$'] \n",
            "\n",
            "Select the operation from the following:\n",
            "1. Insert\n",
            "2. Delete\n",
            "3. Update\n",
            "4. Retrieve\n",
            "5. Indexing\n",
            "6. Slicing\n",
            "7. Concatenation\n",
            "8. Join\n",
            "\n",
            "Enter numbers to select operation : 3\n",
            "\n",
            "List before updating :  ['Fifty Shades of Grey', 'E L James', '3.8', '14$']\n",
            "Enter the element to be replaced : E L James\n",
            "Enter the new element : vatsal\n",
            "List after updating :  ['Fifty Shades of Grey', 'vatsal', '3.8', '14$']\n"
          ]
        }
      ]
    },
    {
      "cell_type": "markdown",
      "source": [
        "<h2>Practical 7</h2>\n",
        "Write a program to insert, delete, update, retrieve, indexing, slicing, concatenation etc. for  tuple(s) from data of your dataset.   "
      ],
      "metadata": {
        "id": "3LNBxTgY_zDV"
      }
    },
    {
      "cell_type": "code",
      "source": [
        "def tup_insert():\n",
        "  global tup1\n",
        "  print(\"Tuple before insertion : \",tup1)\n",
        "  tup1=list(tup1)\n",
        "  tup1.insert(int(input(\"Enter position for insertion\")),input(\"Enter the string for insertion : \"))\n",
        "  tup1=tuple(tup1)\n",
        "  print(\"Tuple before insertion : \",tup1)\n",
        "    \n",
        "def tup_delete():\n",
        "    global tup1\n",
        "    print(\"Tuple before deletion : \",tup1)\n",
        "    tup1=list(tup1)\n",
        "    tup1.remove(input(\"Enter the element to be deleted : \"))\n",
        "    tup1=tuple(tup1)\n",
        "    print(\"Tuple before deletion : \",tup1)\n",
        "\n",
        "def tup_update():\n",
        "    global tup1\n",
        "    print(\"Tuple before updating : \",tup1)\n",
        "    tup2 = list(tup1)\n",
        "    index=tup2.index(input(\"Enter the element to be replaced : \"))\n",
        "    tup2[index]=input(\"Enter the new element : \")\n",
        "    tup1 = tuple(tup2)\n",
        "    print(\"Tuple after updating : \",tup1)\n",
        "\n",
        "def tup_retrieve():\n",
        "    global tup1\n",
        "    print(\"Tuple retrieved : \",tup1)\n",
        "    \n",
        "def tup_indexing():\n",
        "    global tup1\n",
        "    index = tup1.index(input(\"Enter the string to get its index : \"))\n",
        "    print(index)\n",
        "    \n",
        "def tup_slicing():\n",
        "    global tup1\n",
        "    start=int(input(\"Enter the start position : \"))\n",
        "    end=int(input(\"Enter the end position : \"))\n",
        "    step=int(input(\"Enter step : \"))\n",
        "    print(tup1[start:end:step])\n",
        "    \n",
        "def tup_concatenation():\n",
        "    global tup1\n",
        "    tup1=list(tup1)\n",
        "    print(\"Tuple before concatenation : \",tup1)\n",
        "    tup1.append(input(\"Enter the element to be concatenated : \"))\n",
        "    tup1=tuple(tup1)\n",
        "    print(\"Tuple after concatenation : \",tup1)\n",
        "\n",
        "def switch(argument):\n",
        "    switcher={\n",
        "        \"1\":tup_insert,\n",
        "        \"2\":tup_delete,\n",
        "        \"3\":tup_update,\n",
        "        \"4\":tup_retrieve,\n",
        "        \"5\":tup_indexing,\n",
        "        \"6\":tup_slicing,\n",
        "        \"7\":tup_concatenation,\n",
        "    }\n",
        "    r=switcher.get(argument)()\n",
        "    \n",
        "\n",
        "tup1=(\"Fifty Shades of Grey\",\"E L James\",\"3.8\",\"14$\")\n",
        "print(\"Tuple :\",tup1)\n",
        "\n",
        "print(\"\"\"Select the operation from the following:\n",
        "1. Insert\n",
        "2. Delete\n",
        "3. Update\n",
        "4. Retrieve\n",
        "5. Indexing\n",
        "6. Slicing\n",
        "7. Concatenation\n",
        "\"\"\")\n",
        "arg=input(\"Enter numbers to select operation : \")\n",
        "print()\n",
        "\n",
        "switch(arg)"
      ],
      "metadata": {
        "colab": {
          "base_uri": "https://localhost:8080/"
        },
        "id": "AMghiJENEtFq",
        "outputId": "4e33bbd7-b12f-49f6-a7eb-34ba54420354"
      },
      "execution_count": null,
      "outputs": [
        {
          "output_type": "stream",
          "name": "stdout",
          "text": [
            "Tuple : ('Fifty Shades of Grey', 'E L James', '3.8', '14$')\n",
            "Select the operation from the following:\n",
            "1. Insert\n",
            "2. Delete\n",
            "3. Update\n",
            "4. Retrieve\n",
            "5. Indexing\n",
            "6. Slicing\n",
            "7. Concatenation\n",
            "\n",
            "Enter numbers to select operation : 7\n",
            "\n",
            "Tuple before concatenation :  ['Fifty Shades of Grey', 'E L James', '3.8', '14$']\n",
            "Enter the element to be concatenated : vatsal\n",
            "Tuple after concatenation :  ('Fifty Shades of Grey', 'E L James', '3.8', '14$', 'vatsal')\n"
          ]
        }
      ]
    },
    {
      "cell_type": "markdown",
      "source": [
        "<h2>Practical 8</h2>\n",
        "Write a program to do set operations from data of your dataset: \n",
        "<br>(i)intersection\n",
        "<br>(ii)union\n",
        "<br>(iii)difference\n",
        "<br>(iv)symmetric difference\n",
        "<br>(v)check s1 is a subset of s2\n",
        "<br>(vi)check if s1 is a superset of s2\n",
        "<br>(vii)find whether two sets are disjoint or not\n",
        "<br>(viii)find all subsets of a set without using itertools\n"
      ],
      "metadata": {
        "id": "mecnL6rI__x9"
      }
    },
    {
      "cell_type": "code",
      "source": [
        "def set_intersection():\n",
        "    global s1,s2\n",
        "    print(\"Intersection of s1 and s2 : \"+str(s1.intersection(s2)))\n",
        "\n",
        "def set_union():\n",
        "    global s1,s2\n",
        "    print(\"Union of s1 and s2 : \" + str(s1.union(s2)))\n",
        "\n",
        "def set_difference():\n",
        "    global s1,s2\n",
        "    print(\"Set Difference : \" + str(s1.difference(s2)))\n",
        "\n",
        "def set_symmetric_difference():\n",
        "    global s1,s2\n",
        "    \n",
        "    print(\"Symmetric Difference : \" + str(s1.symmetric_difference(s2)))\n",
        "\n",
        "def set_subset():\n",
        "    global s1,s2\n",
        "    print(\"s1 subset of s2 : \" + str(s1.issubset(s2)))\n",
        "\n",
        "def set_superset():\n",
        "    global s1,s2\n",
        "    print(\"s1 superset of s2 : \"+str(s1.issuperset(s2)))\n",
        "\n",
        "def set_disjoint():\n",
        "    global s1,s2\n",
        "    print(\"s1 and s2 are disjoint : \"+str(s1.isdisjoint(s2)))\n",
        "\n",
        "def set_subsets():\n",
        "    global s1\n",
        "    s=list(s1)\n",
        "    x=len(s)\n",
        "    for i in range(1<<x):\n",
        "        print([s[j] for j in range(x) if (i & (1<<j))])\n",
        "\n",
        "def switch(argument):\n",
        "    switcher={\n",
        "        \"1\":set_intersection,\n",
        "        \"2\":set_union,\n",
        "        \"3\":set_difference,\n",
        "        \"4\":set_symmetric_difference,\n",
        "        \"5\":set_subset,\n",
        "        \"6\":set_superset,\n",
        "        \"7\":set_disjoint,\n",
        "        \"8\":set_subsets,\n",
        "    }\n",
        "    r=switcher.get(argument)()\n",
        "\n",
        "s1={\"Fifty Shades of Grey\",\"E L James\",\"14$\",\"2012\"}\n",
        "s2={\"Game of Thrones Boxed Set\",\"George R.R. Martin\",\"5$\",\"2011\"}\n",
        "print(\"s1 : \" + str(s1) + \"\\n\")\n",
        "print(\"s2 : \" + str(s2) + \"\\n\")\n",
        "\n",
        "print(\"\"\"Select the operation from the following:\n",
        "1. Intersection\n",
        "2. Union\n",
        "3. Difference\n",
        "4. Symmetric difference\n",
        "5. Check s1 is a subset of s2\n",
        "6. Check if s1 is a superset of s2\n",
        "7. Find whether two sets are disjoint or not\n",
        "8. Find all subsets of a set without using itertools\n",
        "\"\"\")\n",
        "arg=input(\"Enter numbers to select operation : \")\n",
        "print()\n",
        "\n",
        "switch(arg)"
      ],
      "metadata": {
        "id": "UsS5-jQ-Adsp",
        "colab": {
          "base_uri": "https://localhost:8080/"
        },
        "outputId": "a8ed96e4-28bd-4ab2-e8f4-22c71c90e3cf"
      },
      "execution_count": null,
      "outputs": [
        {
          "output_type": "stream",
          "name": "stdout",
          "text": [
            "s1 : {'2012', 'E L James', 'Fifty Shades of Grey', '14$'}\n",
            "\n",
            "s2 : {'Game of Thrones Boxed Set', '5$', 'George R.R. Martin', '2011'}\n",
            "\n",
            "Select the operation from the following:\n",
            "1. Intersection\n",
            "2. Union\n",
            "3. Difference\n",
            "4. Symmetric difference\n",
            "5. Check s1 is a subset of s2\n",
            "6. Check if s1 is a superset of s2\n",
            "7. Find whether two sets are disjoint or not\n",
            "8. Find all subsets of a set without using itertools\n",
            "\n",
            "Enter numbers to select operation : 2\n",
            "\n",
            "Union of s1 and s2 : {'E L James', '2012', 'Game of Thrones Boxed Set', '5$', 'George R.R. Martin', '14$', '2011', 'Fifty Shades of Grey'}\n"
          ]
        }
      ]
    },
    {
      "cell_type": "markdown",
      "source": [
        "<h2>Practical 9</h2>\n",
        "Write a program to do operations on a dictionary from data of your dataset."
      ],
      "metadata": {
        "id": "fUVtH2PmAen1"
      }
    },
    {
      "cell_type": "code",
      "source": [
        "def dict_insert():\n",
        "    global dict1\n",
        "    print(\"Dictionary before insertion : \" + str(dict1))\n",
        "    x=list(dict1.items())\n",
        "    x.insert(int(input(\"Enter position for insertion : \")), (input(\"Enter Key : \"),input(\"Enter value : \")))\n",
        "    dict1=dict(x)\n",
        "    print(\"Dictionary after insertion : \" + str(dict1))\n",
        "    \n",
        "def dict_delete():\n",
        "    global dict1\n",
        "    print(\"Dictionary before deletion : \" + str(dict1))\n",
        "    key_to_delete=(input(\"Enter key to be deleted : \"))\n",
        "    i=0\n",
        "    for key in dict1.keys():\n",
        "        if key_to_delete in dict1:\n",
        "            del dict1[key_to_delete]\n",
        "            i=1\n",
        "            break\n",
        "    if i==0:\n",
        "        print(\"Key not found!\")\n",
        "    print(\"Dictionary after deletion : \" + str(dict1))\n",
        "    \n",
        "def dict_update():\n",
        "    global dict1\n",
        "    print(\"Tuple before updating : \" + str(dict1))\n",
        "    key_to_replace=(input(\"Enter the key to be replaced : \"))\n",
        "    value_to_replace=input(\"Enter the value : \")\n",
        "    dict1.update({key_to_replace:value_to_replace})\n",
        "    print(\"Tuple after updating : \" + str(dict1))\n",
        "    \n",
        "def dict_retrieve():\n",
        "    global dict1\n",
        "    print(\"Dictionary retrieved : \" + str(dict1))\n",
        "    \n",
        "def dict_indexing():\n",
        "    global dict1\n",
        "    k=input(\"Enter the key to get its value : \")\n",
        "    print(dict1.get(k))\n",
        "    \n",
        "def dict_slicing():\n",
        "    global dict1\n",
        "    start=int(input(\"Enter the start position : \"))\n",
        "    end=int(input(\"Enter the end position : \"))\n",
        "    res=dict()\n",
        "    for i in dict1:\n",
        "        res[i]=dict1[i][start:end]\n",
        "    print(res)\n",
        "    \n",
        "def dict_concatenation():\n",
        "    global dict1\n",
        "    print(\"Tuple before concatenation : \" + str(dict1))\n",
        "    key_to_concatenate=(input(\"Enter the key to be concatenated : \"))\n",
        "    value_to_concatenate=input(\"Enter the value to be concatenated : \")\n",
        "    dict1.update({key_to_concatenate:value_to_concatenate})\n",
        "    print(\"Tuple after concatenation : \" + str(dict1))\n",
        "    \n",
        "\n",
        "def switch(argument):\n",
        "    switcher={\n",
        "        \"1\":dict_insert,\n",
        "        \"2\":dict_delete,\n",
        "        \"3\":dict_update,\n",
        "        \"4\":dict_retrieve,\n",
        "        \"5\":dict_indexing,\n",
        "        \"6\":dict_slicing,\n",
        "        \"7\":dict_concatenation,\n",
        "    }\n",
        "    r=switcher.get(argument)()\n",
        "    \n",
        "\n",
        "dict1={\"Fifty Shades of Grey\":\"E L James\",\"14$\":\"2012\"}\n",
        "print(\"Dictionary : \" + str(dict1) + \"\\n\")\n",
        "\n",
        "\n",
        "print(\"\"\"Select the operation from the following:\n",
        "1. Insert\n",
        "2. Delete\n",
        "3. Update\n",
        "4. Retrieve\n",
        "5. Indexing\n",
        "6. Slicing\n",
        "7. Concatenation\n",
        "\"\"\")\n",
        "arg=input(\"Enter numbers to select operation : \")\n",
        "print()\n",
        "\n",
        "switch(arg)"
      ],
      "metadata": {
        "id": "DD0zj8f0Aln6"
      },
      "execution_count": null,
      "outputs": []
    },
    {
      "cell_type": "markdown",
      "source": [
        "<h1>CO-2 ASSIGNMENT"
      ],
      "metadata": {
        "id": "l6Z-KFpyJzYj"
      }
    },
    {
      "cell_type": "markdown",
      "source": [
        "<h2>Practical 10</h2>\n",
        "Read and analyze your data set for the following:\n",
        "<br>a. Number of rows\n",
        "<br>b. Number of attributes\n",
        "<br>c. Number of missing values for each attribute\n"
      ],
      "metadata": {
        "id": "wUwfL21TOBYd"
      }
    },
    {
      "cell_type": "code",
      "source": [
        "from google.colab import files\n",
        "f= files.upload()"
      ],
      "metadata": {
        "colab": {
          "resources": {
            "http://localhost:8080/nbextensions/google.colab/files.js": {
              "data": "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",
              "ok": true,
              "headers": [
                [
                  "content-type",
                  "application/javascript"
                ]
              ],
              "status": 200,
              "status_text": ""
            }
          },
          "base_uri": "https://localhost:8080/",
          "height": 74
        },
        "id": "aYxWEjMoRqaq",
        "outputId": "18169b54-e7bf-4110-9640-c7dd773a9b76"
      },
      "execution_count": null,
      "outputs": [
        {
          "output_type": "display_data",
          "data": {
            "text/plain": [
              "<IPython.core.display.HTML object>"
            ],
            "text/html": [
              "\n",
              "     <input type=\"file\" id=\"files-e6f99164-e787-41e6-885a-8864b6476217\" name=\"files[]\" multiple disabled\n",
              "        style=\"border:none\" />\n",
              "     <output id=\"result-e6f99164-e787-41e6-885a-8864b6476217\">\n",
              "      Upload widget is only available when the cell has been executed in the\n",
              "      current browser session. Please rerun this cell to enable.\n",
              "      </output>\n",
              "      <script src=\"/nbextensions/google.colab/files.js\"></script> "
            ]
          },
          "metadata": {}
        },
        {
          "output_type": "stream",
          "name": "stdout",
          "text": [
            "Saving book.csv to book (1).csv\n"
          ]
        }
      ]
    },
    {
      "cell_type": "code",
      "source": [
        "import pandas as pd\n",
        "import io\n",
        "\n",
        "df = pd.read_csv(io.BytesIO(f['book.csv']))\n",
        "df\n"
      ],
      "metadata": {
        "colab": {
          "base_uri": "https://localhost:8080/",
          "height": 424
        },
        "id": "djwqKqP1R90Z",
        "outputId": "bdbfd93f-35e9-4ba2-8fef-28a9af7e7283"
      },
      "execution_count": null,
      "outputs": [
        {
          "output_type": "execute_result",
          "data": {
            "text/plain": [
              "                                                  Name  \\\n",
              "0                        10-Day Green Smoothie Cleanse   \n",
              "1                                    11/22/63: A Novel   \n",
              "2              12 Rules for Life: An Antidote to Chaos   \n",
              "3                               1984 (Signet Classics)   \n",
              "4    5,000 Awesome Facts (About Everything!) (Natio...   \n",
              "..                                                 ...   \n",
              "545       Wrecking Ball (Diary of a Wimpy Kid Book 14)   \n",
              "546  You Are a Badass: How to Stop Doubting Your Gr...   \n",
              "547  You Are a Badass: How to Stop Doubting Your Gr...   \n",
              "548  You Are a Badass: How to Stop Doubting Your Gr...   \n",
              "549  You Are a Badass: How to Stop Doubting Your Gr...   \n",
              "\n",
              "                       Author  User Rating  Reviews  Price  Year        Genre  \n",
              "0                    JJ Smith          4.7    17350      8  2016  Non Fiction  \n",
              "1                Stephen King          4.6     2052     22  2011      Fiction  \n",
              "2          Jordan B. Peterson          4.7    18979     15  2018  Non Fiction  \n",
              "3               George Orwell          4.7    21424      6  2017      Fiction  \n",
              "4    National Geographic Kids          4.8     7665     12  2019  Non Fiction  \n",
              "..                        ...          ...      ...    ...   ...          ...  \n",
              "545               Jeff Kinney          4.9     9413      8  2019      Fiction  \n",
              "546               Jen Sincero          4.7    14331      8  2016  Non Fiction  \n",
              "547               Jen Sincero          4.7    14331      8  2017  Non Fiction  \n",
              "548               Jen Sincero          4.7    14331      8  2018  Non Fiction  \n",
              "549               Jen Sincero          4.7    14331      8  2019  Non Fiction  \n",
              "\n",
              "[550 rows x 7 columns]"
            ],
            "text/html": [
              "\n",
              "  <div id=\"df-5db6abe4-5554-44aa-9f12-828bacdad1c2\">\n",
              "    <div class=\"colab-df-container\">\n",
              "      <div>\n",
              "<style scoped>\n",
              "    .dataframe tbody tr th:only-of-type {\n",
              "        vertical-align: middle;\n",
              "    }\n",
              "\n",
              "    .dataframe tbody tr th {\n",
              "        vertical-align: top;\n",
              "    }\n",
              "\n",
              "    .dataframe thead th {\n",
              "        text-align: right;\n",
              "    }\n",
              "</style>\n",
              "<table border=\"1\" class=\"dataframe\">\n",
              "  <thead>\n",
              "    <tr style=\"text-align: right;\">\n",
              "      <th></th>\n",
              "      <th>Name</th>\n",
              "      <th>Author</th>\n",
              "      <th>User Rating</th>\n",
              "      <th>Reviews</th>\n",
              "      <th>Price</th>\n",
              "      <th>Year</th>\n",
              "      <th>Genre</th>\n",
              "    </tr>\n",
              "  </thead>\n",
              "  <tbody>\n",
              "    <tr>\n",
              "      <th>0</th>\n",
              "      <td>10-Day Green Smoothie Cleanse</td>\n",
              "      <td>JJ Smith</td>\n",
              "      <td>4.7</td>\n",
              "      <td>17350</td>\n",
              "      <td>8</td>\n",
              "      <td>2016</td>\n",
              "      <td>Non Fiction</td>\n",
              "    </tr>\n",
              "    <tr>\n",
              "      <th>1</th>\n",
              "      <td>11/22/63: A Novel</td>\n",
              "      <td>Stephen King</td>\n",
              "      <td>4.6</td>\n",
              "      <td>2052</td>\n",
              "      <td>22</td>\n",
              "      <td>2011</td>\n",
              "      <td>Fiction</td>\n",
              "    </tr>\n",
              "    <tr>\n",
              "      <th>2</th>\n",
              "      <td>12 Rules for Life: An Antidote to Chaos</td>\n",
              "      <td>Jordan B. Peterson</td>\n",
              "      <td>4.7</td>\n",
              "      <td>18979</td>\n",
              "      <td>15</td>\n",
              "      <td>2018</td>\n",
              "      <td>Non Fiction</td>\n",
              "    </tr>\n",
              "    <tr>\n",
              "      <th>3</th>\n",
              "      <td>1984 (Signet Classics)</td>\n",
              "      <td>George Orwell</td>\n",
              "      <td>4.7</td>\n",
              "      <td>21424</td>\n",
              "      <td>6</td>\n",
              "      <td>2017</td>\n",
              "      <td>Fiction</td>\n",
              "    </tr>\n",
              "    <tr>\n",
              "      <th>4</th>\n",
              "      <td>5,000 Awesome Facts (About Everything!) (Natio...</td>\n",
              "      <td>National Geographic Kids</td>\n",
              "      <td>4.8</td>\n",
              "      <td>7665</td>\n",
              "      <td>12</td>\n",
              "      <td>2019</td>\n",
              "      <td>Non Fiction</td>\n",
              "    </tr>\n",
              "    <tr>\n",
              "      <th>...</th>\n",
              "      <td>...</td>\n",
              "      <td>...</td>\n",
              "      <td>...</td>\n",
              "      <td>...</td>\n",
              "      <td>...</td>\n",
              "      <td>...</td>\n",
              "      <td>...</td>\n",
              "    </tr>\n",
              "    <tr>\n",
              "      <th>545</th>\n",
              "      <td>Wrecking Ball (Diary of a Wimpy Kid Book 14)</td>\n",
              "      <td>Jeff Kinney</td>\n",
              "      <td>4.9</td>\n",
              "      <td>9413</td>\n",
              "      <td>8</td>\n",
              "      <td>2019</td>\n",
              "      <td>Fiction</td>\n",
              "    </tr>\n",
              "    <tr>\n",
              "      <th>546</th>\n",
              "      <td>You Are a Badass: How to Stop Doubting Your Gr...</td>\n",
              "      <td>Jen Sincero</td>\n",
              "      <td>4.7</td>\n",
              "      <td>14331</td>\n",
              "      <td>8</td>\n",
              "      <td>2016</td>\n",
              "      <td>Non Fiction</td>\n",
              "    </tr>\n",
              "    <tr>\n",
              "      <th>547</th>\n",
              "      <td>You Are a Badass: How to Stop Doubting Your Gr...</td>\n",
              "      <td>Jen Sincero</td>\n",
              "      <td>4.7</td>\n",
              "      <td>14331</td>\n",
              "      <td>8</td>\n",
              "      <td>2017</td>\n",
              "      <td>Non Fiction</td>\n",
              "    </tr>\n",
              "    <tr>\n",
              "      <th>548</th>\n",
              "      <td>You Are a Badass: How to Stop Doubting Your Gr...</td>\n",
              "      <td>Jen Sincero</td>\n",
              "      <td>4.7</td>\n",
              "      <td>14331</td>\n",
              "      <td>8</td>\n",
              "      <td>2018</td>\n",
              "      <td>Non Fiction</td>\n",
              "    </tr>\n",
              "    <tr>\n",
              "      <th>549</th>\n",
              "      <td>You Are a Badass: How to Stop Doubting Your Gr...</td>\n",
              "      <td>Jen Sincero</td>\n",
              "      <td>4.7</td>\n",
              "      <td>14331</td>\n",
              "      <td>8</td>\n",
              "      <td>2019</td>\n",
              "      <td>Non Fiction</td>\n",
              "    </tr>\n",
              "  </tbody>\n",
              "</table>\n",
              "<p>550 rows × 7 columns</p>\n",
              "</div>\n",
              "      <button class=\"colab-df-convert\" onclick=\"convertToInteractive('df-5db6abe4-5554-44aa-9f12-828bacdad1c2')\"\n",
              "              title=\"Convert this dataframe to an interactive table.\"\n",
              "              style=\"display:none;\">\n",
              "        \n",
              "  <svg xmlns=\"http://www.w3.org/2000/svg\" height=\"24px\"viewBox=\"0 0 24 24\"\n",
              "       width=\"24px\">\n",
              "    <path d=\"M0 0h24v24H0V0z\" fill=\"none\"/>\n",
              "    <path d=\"M18.56 5.44l.94 2.06.94-2.06 2.06-.94-2.06-.94-.94-2.06-.94 2.06-2.06.94zm-11 1L8.5 8.5l.94-2.06 2.06-.94-2.06-.94L8.5 2.5l-.94 2.06-2.06.94zm10 10l.94 2.06.94-2.06 2.06-.94-2.06-.94-.94-2.06-.94 2.06-2.06.94z\"/><path d=\"M17.41 7.96l-1.37-1.37c-.4-.4-.92-.59-1.43-.59-.52 0-1.04.2-1.43.59L10.3 9.45l-7.72 7.72c-.78.78-.78 2.05 0 2.83L4 21.41c.39.39.9.59 1.41.59.51 0 1.02-.2 1.41-.59l7.78-7.78 2.81-2.81c.8-.78.8-2.07 0-2.86zM5.41 20L4 18.59l7.72-7.72 1.47 1.35L5.41 20z\"/>\n",
              "  </svg>\n",
              "      </button>\n",
              "      \n",
              "  <style>\n",
              "    .colab-df-container {\n",
              "      display:flex;\n",
              "      flex-wrap:wrap;\n",
              "      gap: 12px;\n",
              "    }\n",
              "\n",
              "    .colab-df-convert {\n",
              "      background-color: #E8F0FE;\n",
              "      border: none;\n",
              "      border-radius: 50%;\n",
              "      cursor: pointer;\n",
              "      display: none;\n",
              "      fill: #1967D2;\n",
              "      height: 32px;\n",
              "      padding: 0 0 0 0;\n",
              "      width: 32px;\n",
              "    }\n",
              "\n",
              "    .colab-df-convert:hover {\n",
              "      background-color: #E2EBFA;\n",
              "      box-shadow: 0px 1px 2px rgba(60, 64, 67, 0.3), 0px 1px 3px 1px rgba(60, 64, 67, 0.15);\n",
              "      fill: #174EA6;\n",
              "    }\n",
              "\n",
              "    [theme=dark] .colab-df-convert {\n",
              "      background-color: #3B4455;\n",
              "      fill: #D2E3FC;\n",
              "    }\n",
              "\n",
              "    [theme=dark] .colab-df-convert:hover {\n",
              "      background-color: #434B5C;\n",
              "      box-shadow: 0px 1px 3px 1px rgba(0, 0, 0, 0.15);\n",
              "      filter: drop-shadow(0px 1px 2px rgba(0, 0, 0, 0.3));\n",
              "      fill: #FFFFFF;\n",
              "    }\n",
              "  </style>\n",
              "\n",
              "      <script>\n",
              "        const buttonEl =\n",
              "          document.querySelector('#df-5db6abe4-5554-44aa-9f12-828bacdad1c2 button.colab-df-convert');\n",
              "        buttonEl.style.display =\n",
              "          google.colab.kernel.accessAllowed ? 'block' : 'none';\n",
              "\n",
              "        async function convertToInteractive(key) {\n",
              "          const element = document.querySelector('#df-5db6abe4-5554-44aa-9f12-828bacdad1c2');\n",
              "          const dataTable =\n",
              "            await google.colab.kernel.invokeFunction('convertToInteractive',\n",
              "                                                     [key], {});\n",
              "          if (!dataTable) return;\n",
              "\n",
              "          const docLinkHtml = 'Like what you see? Visit the ' +\n",
              "            '<a target=\"_blank\" href=https://colab.research.google.com/notebooks/data_table.ipynb>data table notebook</a>'\n",
              "            + ' to learn more about interactive tables.';\n",
              "          element.innerHTML = '';\n",
              "          dataTable['output_type'] = 'display_data';\n",
              "          await google.colab.output.renderOutput(dataTable, element);\n",
              "          const docLink = document.createElement('div');\n",
              "          docLink.innerHTML = docLinkHtml;\n",
              "          element.appendChild(docLink);\n",
              "        }\n",
              "      </script>\n",
              "    </div>\n",
              "  </div>\n",
              "  "
            ]
          },
          "metadata": {},
          "execution_count": 29
        }
      ]
    },
    {
      "cell_type": "code",
      "source": [
        "print(\"Number of row :\",len(df))"
      ],
      "metadata": {
        "colab": {
          "base_uri": "https://localhost:8080/"
        },
        "id": "w7eHLpCeS9Kc",
        "outputId": "fa6d7c6f-b985-4112-828c-b9b24f8ec2ab"
      },
      "execution_count": null,
      "outputs": [
        {
          "output_type": "stream",
          "name": "stdout",
          "text": [
            "Number of row : 550\n"
          ]
        }
      ]
    },
    {
      "cell_type": "code",
      "source": [
        "print(\"Number of Attributes :\",len(df.dtypes))"
      ],
      "metadata": {
        "colab": {
          "base_uri": "https://localhost:8080/"
        },
        "id": "gt-enIj9TPFc",
        "outputId": "78f0ea0b-1947-4630-bbc8-f287155bf568"
      },
      "execution_count": null,
      "outputs": [
        {
          "output_type": "stream",
          "name": "stdout",
          "text": [
            "Number of Attributes : 7\n"
          ]
        }
      ]
    },
    {
      "cell_type": "code",
      "source": [
        "print(\"Number of missing values for each attribute :\\n\"+str(df.isnull().sum()))"
      ],
      "metadata": {
        "colab": {
          "base_uri": "https://localhost:8080/"
        },
        "id": "1ENIX2vjTZLC",
        "outputId": "a8b2723e-606f-42b0-e472-d63c1d41ef89"
      },
      "execution_count": null,
      "outputs": [
        {
          "output_type": "stream",
          "name": "stdout",
          "text": [
            "Number of missing values for each attribute :\n",
            "Name           0\n",
            "Author         0\n",
            "User Rating    0\n",
            "Reviews        0\n",
            "Price          0\n",
            "Year           0\n",
            "Genre          0\n",
            "dtype: int64\n"
          ]
        }
      ]
    },
    {
      "cell_type": "code",
      "source": [
        "print(\"Total Number of missing values :\",str(df.isnull().sum().sum()))"
      ],
      "metadata": {
        "colab": {
          "base_uri": "https://localhost:8080/"
        },
        "id": "MjzMKfK-Tr4M",
        "outputId": "5ecdf888-cd29-4e5a-ade7-04f61a936060"
      },
      "execution_count": null,
      "outputs": [
        {
          "output_type": "stream",
          "name": "stdout",
          "text": [
            "Total Number of missing values : 0\n"
          ]
        }
      ]
    },
    {
      "cell_type": "markdown",
      "source": [
        "<h2>Practical 11</h2>\n",
        "Write a program to parse HTML documents w.r.to your dataset using Beautiful Soup.\n"
      ],
      "metadata": {
        "id": "3y255A7vMTQL"
      }
    },
    {
      "cell_type": "code",
      "source": [
        "!pip install lxml"
      ],
      "metadata": {
        "colab": {
          "base_uri": "https://localhost:8080/"
        },
        "id": "XGIciY-qMSmo",
        "outputId": "ee744871-1e0d-4976-9b15-35bd48bb44e4"
      },
      "execution_count": null,
      "outputs": [
        {
          "output_type": "stream",
          "name": "stdout",
          "text": [
            "Looking in indexes: https://pypi.org/simple, https://us-python.pkg.dev/colab-wheels/public/simple/\n",
            "Requirement already satisfied: lxml in /usr/local/lib/python3.7/dist-packages (4.9.1)\n"
          ]
        }
      ]
    },
    {
      "cell_type": "code",
      "source": [
        "!pip install bs4"
      ],
      "metadata": {
        "colab": {
          "base_uri": "https://localhost:8080/"
        },
        "id": "sEdc1wwqMdC7",
        "outputId": "be46a3bd-8b86-4f8e-931d-0cf540b8dd48"
      },
      "execution_count": null,
      "outputs": [
        {
          "output_type": "stream",
          "name": "stdout",
          "text": [
            "Looking in indexes: https://pypi.org/simple, https://us-python.pkg.dev/colab-wheels/public/simple/\n",
            "Requirement already satisfied: bs4 in /usr/local/lib/python3.7/dist-packages (0.0.1)\n",
            "Requirement already satisfied: beautifulsoup4 in /usr/local/lib/python3.7/dist-packages (from bs4) (4.6.3)\n"
          ]
        }
      ]
    },
    {
      "cell_type": "code",
      "source": [
        "import lxml\n",
        "import bs4\n",
        "from bs4 import BeautifulSoup"
      ],
      "metadata": {
        "id": "sJ63A0fBMqt0"
      },
      "execution_count": null,
      "outputs": []
    },
    {
      "cell_type": "code",
      "source": [
        "# upload html file\n",
        "from google.colab import files\n",
        "uploaded = files.upload()"
      ],
      "metadata": {
        "colab": {
          "resources": {
            "http://localhost:8080/nbextensions/google.colab/files.js": {
              "data": "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",
              "ok": true,
              "headers": [
                [
                  "content-type",
                  "application/javascript"
                ]
              ],
              "status": 200,
              "status_text": ""
            }
          },
          "base_uri": "https://localhost:8080/",
          "height": 74
        },
        "id": "_-7n4hcClGgm",
        "outputId": "65c00c80-6405-4bc6-ad4d-f290274b0761"
      },
      "execution_count": null,
      "outputs": [
        {
          "output_type": "display_data",
          "data": {
            "text/plain": [
              "<IPython.core.display.HTML object>"
            ],
            "text/html": [
              "\n",
              "     <input type=\"file\" id=\"files-6e3d5696-df9e-431b-9919-017f25de74d7\" name=\"files[]\" multiple disabled\n",
              "        style=\"border:none\" />\n",
              "     <output id=\"result-6e3d5696-df9e-431b-9919-017f25de74d7\">\n",
              "      Upload widget is only available when the cell has been executed in the\n",
              "      current browser session. Please rerun this cell to enable.\n",
              "      </output>\n",
              "      <script src=\"/nbextensions/google.colab/files.js\"></script> "
            ]
          },
          "metadata": {}
        },
        {
          "output_type": "stream",
          "name": "stdout",
          "text": [
            "Saving book.html to book.html\n"
          ]
        }
      ]
    },
    {
      "cell_type": "code",
      "source": [
        "# reading content from the file\n",
        "with open(\"book.html\") as html_file:\n",
        "    html = html_file.read()\n",
        "\n",
        "# creating a BeautifulSoup object\n",
        "soup = bs4.BeautifulSoup(html, \"html.parser\")"
      ],
      "metadata": {
        "id": "9aQP_LplOepv"
      },
      "execution_count": null,
      "outputs": []
    },
    {
      "cell_type": "code",
      "source": [
        "import re\n",
        "\n",
        "# get all tag\n",
        "for tag in soup.find_all(re.compile(\"^b\")):\n",
        "    print(tag)"
      ],
      "metadata": {
        "colab": {
          "base_uri": "https://localhost:8080/"
        },
        "id": "99gUvF4AT9PM",
        "outputId": "23624364-97d1-45bf-cea2-4f06da59e6c1"
      },
      "execution_count": null,
      "outputs": [
        {
          "output_type": "stream",
          "name": "stdout",
          "text": [
            "<body>\n",
            "<h1><b>Amazon Top 50 Bestselling Books 2009 - 2019</b></h1>\n",
            "<p class=\"links\">\n",
            "<a class=\"dataset\" href=\"https://www.kaggle.com/datasets/sootersaalu/amazon-top-50-bestselling-books-2009-2019\" id=\"link1\">Data Set</a>\n",
            "<a class=\"book1\" href=\"https://www.amazon.in/Song-Ice-Fire-Thrones-Complete/dp/0007477155/ref=sr_1_2?crid=1L2CEXUX817MF&amp;keywords=a+game+of+thrones&amp;qid=1662911848&amp;sprefix=a+game+of+thrones%2Caps%2C200&amp;sr=8-2\" id=\"link2\">Book 1 - A Game of Thrones</a>\n",
            "<a class=\"book1\" href=\"https://www.amazon.in/Grey-Fifty-Shades-told-Christian/dp/B079WVJ3N5/ref=sr_1_4?crid=2MY66AMTMJZR&amp;keywords=Fifty+Shades+of+Grey&amp;qid=1662912036&amp;sprefix=fifty+shades+of+grey%2Caps%2C250&amp;sr=8-4\" id=\"link2\">Book 2 - Fifty Shades of Grey</a>\n",
            "</p>\n",
            "<table>\n",
            "<tr>\n",
            "<th>Book Name</th>\n",
            "<th>Author</th>\n",
            "<th>User Rating</th>\n",
            "<th>Reviews</th>\n",
            "<th>Price</th>\n",
            "<th>Year</th>\n",
            "<th>Genre</th>\n",
            "</tr>\n",
            "<tr>\n",
            "<td>A Game of Thrones</td>\n",
            "<td>George R. R. Martin</td>\n",
            "<td>4.7</td>\n",
            "<td>19735</td>\n",
            "<td>30</td>\n",
            "<td>2014</td>\n",
            "<td>Fiction</td>\n",
            "</tr>\n",
            "<tr>\n",
            "<td>Fifty Shades of Grey</td>\n",
            "<td>E L James</td>\n",
            "<td>3.8</td>\n",
            "<td>47265</td>\n",
            "<td>14</td>\n",
            "<td>2012</td>\n",
            "<td>Fiction</td>\n",
            "</tr>\n",
            "</table>\n",
            "<br/>\n",
            "<p>Dataset on Amazon's Top 50 bestselling books from 2009 to 2019. Contains 550 books, data has been categorized into fiction and non-fiction using Goodreads</p>\n",
            "</body>\n",
            "<b>Amazon Top 50 Bestselling Books 2009 - 2019</b>\n",
            "<br/>\n"
          ]
        }
      ]
    },
    {
      "cell_type": "code",
      "source": [
        "# get the 'title' tag\n",
        "soup.head.title"
      ],
      "metadata": {
        "colab": {
          "base_uri": "https://localhost:8080/"
        },
        "id": "WMzsM42BOkwx",
        "outputId": "ea9c7406-20a6-4f62-cffb-4217860c5f65"
      },
      "execution_count": null,
      "outputs": [
        {
          "output_type": "execute_result",
          "data": {
            "text/plain": [
              "<title>Amazon Top 50 Bestselling Books</title>"
            ]
          },
          "metadata": {},
          "execution_count": 155
        }
      ]
    },
    {
      "cell_type": "code",
      "source": [
        "# get the 'h1' tag\n",
        "soup.body.h1"
      ],
      "metadata": {
        "colab": {
          "base_uri": "https://localhost:8080/"
        },
        "id": "DUXyOfRRQT5H",
        "outputId": "c1527ae8-6c7c-4551-f49d-3edd722b293f"
      },
      "execution_count": null,
      "outputs": [
        {
          "output_type": "execute_result",
          "data": {
            "text/plain": [
              "<h1><b>Amazon Top 50 Bestselling Books 2009 - 2019</b></h1>"
            ]
          },
          "metadata": {},
          "execution_count": 156
        }
      ]
    },
    {
      "cell_type": "code",
      "source": [
        "# get the 'table' tag\n",
        "soup.body.table"
      ],
      "metadata": {
        "colab": {
          "base_uri": "https://localhost:8080/"
        },
        "id": "v7ka_IH1VY7n",
        "outputId": "a7000014-1ce6-4cf7-d9db-92839e21494f"
      },
      "execution_count": null,
      "outputs": [
        {
          "output_type": "execute_result",
          "data": {
            "text/plain": [
              "<table>\n",
              "<tr>\n",
              "<th>Book Name</th>\n",
              "<th>Author</th>\n",
              "<th>User Rating</th>\n",
              "<th>Reviews</th>\n",
              "<th>Price</th>\n",
              "<th>Year</th>\n",
              "<th>Genre</th>\n",
              "</tr>\n",
              "<tr>\n",
              "<td>A Game of Thrones</td>\n",
              "<td>George R. R. Martin</td>\n",
              "<td>4.7</td>\n",
              "<td>19735</td>\n",
              "<td>30</td>\n",
              "<td>2014</td>\n",
              "<td>Fiction</td>\n",
              "</tr>\n",
              "<tr>\n",
              "<td>Fifty Shades of Grey</td>\n",
              "<td>E L James</td>\n",
              "<td>3.8</td>\n",
              "<td>47265</td>\n",
              "<td>14</td>\n",
              "<td>2012</td>\n",
              "<td>Fiction</td>\n",
              "</tr>\n",
              "</table>"
            ]
          },
          "metadata": {},
          "execution_count": 157
        }
      ]
    },
    {
      "cell_type": "code",
      "source": [
        "soup.body.p"
      ],
      "metadata": {
        "colab": {
          "base_uri": "https://localhost:8080/"
        },
        "id": "3U-BsvsymIQt",
        "outputId": "ae2617c8-2a4a-4fa6-a606-00ba892f23c6"
      },
      "execution_count": null,
      "outputs": [
        {
          "output_type": "execute_result",
          "data": {
            "text/plain": [
              "<p class=\"links\">\n",
              "<a class=\"dataset\" href=\"https://www.kaggle.com/datasets/sootersaalu/amazon-top-50-bestselling-books-2009-2019\" id=\"link1\">Data Set</a>\n",
              "<a class=\"book1\" href=\"https://www.amazon.in/Song-Ice-Fire-Thrones-Complete/dp/0007477155/ref=sr_1_2?crid=1L2CEXUX817MF&amp;keywords=a+game+of+thrones&amp;qid=1662911848&amp;sprefix=a+game+of+thrones%2Caps%2C200&amp;sr=8-2\" id=\"link2\">Book 1 - A Game of Thrones</a>\n",
              "<a class=\"book1\" href=\"https://www.amazon.in/Grey-Fifty-Shades-told-Christian/dp/B079WVJ3N5/ref=sr_1_4?crid=2MY66AMTMJZR&amp;keywords=Fifty+Shades+of+Grey&amp;qid=1662912036&amp;sprefix=fifty+shades+of+grey%2Caps%2C250&amp;sr=8-4\" id=\"link2\">Book 2 - Fifty Shades of Grey</a>\n",
              "</p>"
            ]
          },
          "metadata": {},
          "execution_count": 158
        }
      ]
    },
    {
      "cell_type": "code",
      "source": [
        "#search all 'th' tag\n",
        "soup.find_all(\"th\")"
      ],
      "metadata": {
        "colab": {
          "base_uri": "https://localhost:8080/"
        },
        "id": "aOZjsbYxVAZt",
        "outputId": "fafe85dc-b2ee-4ed0-cd4d-498a604aa7d1"
      },
      "execution_count": null,
      "outputs": [
        {
          "output_type": "execute_result",
          "data": {
            "text/plain": [
              "[<th>Book Name</th>,\n",
              " <th>Author</th>,\n",
              " <th>User Rating</th>,\n",
              " <th>Reviews</th>,\n",
              " <th>Price</th>,\n",
              " <th>Year</th>,\n",
              " <th>Genre</th>]"
            ]
          },
          "metadata": {},
          "execution_count": 159
        }
      ]
    },
    {
      "cell_type": "code",
      "source": [
        "# search 'b' tag\n",
        "soup.body.b"
      ],
      "metadata": {
        "id": "7t0iOdhlaMia",
        "colab": {
          "base_uri": "https://localhost:8080/"
        },
        "outputId": "d6f2dde0-3b7c-482e-ed73-c4c7df900434"
      },
      "execution_count": null,
      "outputs": [
        {
          "output_type": "execute_result",
          "data": {
            "text/plain": [
              "<b>Amazon Top 50 Bestselling Books 2009 - 2019</b>"
            ]
          },
          "metadata": {},
          "execution_count": 160
        }
      ]
    },
    {
      "cell_type": "code",
      "source": [
        "# search all 'a' tag\n",
        "soup.find_all(\"a\")"
      ],
      "metadata": {
        "colab": {
          "base_uri": "https://localhost:8080/"
        },
        "id": "PZpRCvQZZXLm",
        "outputId": "d4b07427-4130-4d9a-a499-c6aa8afd4209"
      },
      "execution_count": null,
      "outputs": [
        {
          "output_type": "execute_result",
          "data": {
            "text/plain": [
              "[<a class=\"dataset\" href=\"https://www.kaggle.com/datasets/sootersaalu/amazon-top-50-bestselling-books-2009-2019\" id=\"link1\">Data Set</a>,\n",
              " <a class=\"book1\" href=\"https://www.amazon.in/Song-Ice-Fire-Thrones-Complete/dp/0007477155/ref=sr_1_2?crid=1L2CEXUX817MF&amp;keywords=a+game+of+thrones&amp;qid=1662911848&amp;sprefix=a+game+of+thrones%2Caps%2C200&amp;sr=8-2\" id=\"link2\">Book 1 - A Game of Thrones</a>,\n",
              " <a class=\"book1\" href=\"https://www.amazon.in/Grey-Fifty-Shades-told-Christian/dp/B079WVJ3N5/ref=sr_1_4?crid=2MY66AMTMJZR&amp;keywords=Fifty+Shades+of+Grey&amp;qid=1662912036&amp;sprefix=fifty+shades+of+grey%2Caps%2C250&amp;sr=8-4\" id=\"link2\">Book 2 - Fifty Shades of Grey</a>]"
            ]
          },
          "metadata": {},
          "execution_count": 161
        }
      ]
    },
    {
      "cell_type": "code",
      "source": [
        "# show all text in html code\n",
        "soup.get_text()"
      ],
      "metadata": {
        "colab": {
          "base_uri": "https://localhost:8080/",
          "height": 88
        },
        "id": "engZVTN3X0uN",
        "outputId": "335298b7-62cc-40cf-f351-37ec8326f0f3"
      },
      "execution_count": null,
      "outputs": [
        {
          "output_type": "execute_result",
          "data": {
            "text/plain": [
              "\"%%file book.html\\nbook.html\\n\\n\\n\\nAmazon Top 50 Bestselling Books\\n\\n\\n\\nAmazon Top 50 Bestselling Books 2009 - 2019\\n\\nData Set\\nBook 1 - A Game of Thrones\\nBook 2 - Fifty Shades of Grey\\n\\n\\n\\nBook Name\\nAuthor\\nUser Rating\\nReviews\\nPrice\\nYear\\nGenre\\n\\n\\nA Game of Thrones\\nGeorge R. R. Martin\\n4.7\\n19735\\n30\\n2014\\nFiction\\n\\n\\nFifty Shades of Grey\\nE L James\\n3.8\\n47265\\n14\\n2012\\nFiction\\n\\n\\n\\nDataset on Amazon's Top 50 bestselling books from 2009 to 2019. Contains 550 books, data has been categorized into fiction and non-fiction using Goodreads\\n\\n\""
            ],
            "application/vnd.google.colaboratory.intrinsic+json": {
              "type": "string"
            }
          },
          "metadata": {},
          "execution_count": 162
        }
      ]
    },
    {
      "cell_type": "markdown",
      "source": [
        "<h1>CO-3 ASSIGNMENT</h1>"
      ],
      "metadata": {
        "id": "cloxvZiTwyDt"
      }
    },
    {
      "cell_type": "markdown",
      "source": [
        "<h2>Practical 12</h2>\n",
        "Display graphics and multimedia video related to your data set in Jupyter notebook."
      ],
      "metadata": {
        "id": "DYkiKgvIErYF"
      }
    },
    {
      "cell_type": "code",
      "source": [
        "from google.colab import files\n",
        "f=files.upload()"
      ],
      "metadata": {
        "colab": {
          "resources": {
            "http://localhost:8080/nbextensions/google.colab/files.js": {
              "data": "Ly8gQ29weXJpZ2h0IDIwMTcgR29vZ2xlIExMQwovLwovLyBMaWNlbnNlZCB1bmRlciB0aGUgQXBhY2hlIExpY2Vuc2UsIFZlcnNpb24gMi4wICh0aGUgIkxpY2Vuc2UiKTsKLy8geW91IG1heSBub3QgdXNlIHRoaXMgZmlsZSBleGNlcHQgaW4gY29tcGxpYW5jZSB3aXRoIHRoZSBMaWNlbnNlLgovLyBZb3UgbWF5IG9idGFpbiBhIGNvcHkgb2YgdGhlIExpY2Vuc2UgYXQKLy8KLy8gICAgICBodHRwOi8vd3d3LmFwYWNoZS5vcmcvbGljZW5zZXMvTElDRU5TRS0yLjAKLy8KLy8gVW5sZXNzIHJlcXVpcmVkIGJ5IGFwcGxpY2FibGUgbGF3IG9yIGFncmVlZCB0byBpbiB3cml0aW5nLCBzb2Z0d2FyZQovLyBkaXN0cmlidXRlZCB1bmRlciB0aGUgTGljZW5zZSBpcyBkaXN0cmlidXRlZCBvbiBhbiAiQVMgSVMiIEJBU0lTLAovLyBXSVRIT1VUIFdBUlJBTlRJRVMgT1IgQ09ORElUSU9OUyBPRiBBTlkgS0lORCwgZWl0aGVyIGV4cHJlc3Mgb3IgaW1wbGllZC4KLy8gU2VlIHRoZSBMaWNlbnNlIGZvciB0aGUgc3BlY2lmaWMgbGFuZ3VhZ2UgZ292ZXJuaW5nIHBlcm1pc3Npb25zIGFuZAovLyBsaW1pdGF0aW9ucyB1bmRlciB0aGUgTGljZW5zZS4KCi8qKgogKiBAZmlsZW92ZXJ2aWV3IEhlbHBlcnMgZm9yIGdvb2dsZS5jb2xhYiBQeXRob24gbW9kdWxlLgogKi8KKGZ1bmN0aW9uKHNjb3BlKSB7CmZ1bmN0aW9uIHNwYW4odGV4dCwgc3R5bGVBdHRyaWJ1dGVzID0ge30pIHsKICBjb25zdCBlbGVtZW50ID0gZG9jdW1lbnQuY3JlYXRlRWxlbWVudCgnc3BhbicpOwogIGVsZW1lbnQudGV4dENvbnRlbnQgPSB0ZXh0OwogIGZvciAoY29uc3Qga2V5IG9mIE9iamVjdC5rZXlzKHN0eWxlQXR0cmlidXRlcykpIHsKICAgIGVsZW1lbnQuc3R5bGVba2V5XSA9IHN0eWxlQXR0cmlidXRlc1trZXldOwogIH0KICByZXR1cm4gZWxlbWVudDsKfQoKLy8gTWF4IG51bWJlciBvZiBieXRlcyB3aGljaCB3aWxsIGJlIHVwbG9hZGVkIGF0IGEgdGltZS4KY29uc3QgTUFYX1BBWUxPQURfU0laRSA9IDEwMCAqIDEwMjQ7CgpmdW5jdGlvbiBfdXBsb2FkRmlsZXMoaW5wdXRJZCwgb3V0cHV0SWQpIHsKICBjb25zdCBzdGVwcyA9IHVwbG9hZEZpbGVzU3RlcChpbnB1dElkLCBvdXRwdXRJZCk7CiAgY29uc3Qgb3V0cHV0RWxlbWVudCA9IGRvY3VtZW50LmdldEVsZW1lbnRCeUlkKG91dHB1dElkKTsKICAvLyBDYWNoZSBzdGVwcyBvbiB0aGUgb3V0cHV0RWxlbWVudCB0byBtYWtlIGl0IGF2YWlsYWJsZSBmb3IgdGhlIG5leHQgY2FsbAogIC8vIHRvIHVwbG9hZEZpbGVzQ29udGludWUgZnJvbSBQeXRob24uCiAgb3V0cHV0RWxlbWVudC5zdGVwcyA9IHN0ZXBzOwoKICByZXR1cm4gX3VwbG9hZEZpbGVzQ29udGludWUob3V0cHV0SWQpOwp9CgovLyBUaGlzIGlzIHJvdWdobHkgYW4gYXN5bmMgZ2VuZXJhdG9yIChub3Qgc3VwcG9ydGVkIGluIHRoZSBicm93c2VyIHlldCksCi8vIHdoZXJlIHRoZXJlIGFyZSBtdWx0aXBsZSBhc3luY2hyb25vdXMgc3RlcHMgYW5kIHRoZSBQeXRob24gc2lkZSBpcyBnb2luZwovLyB0byBwb2xsIGZvciBjb21wbGV0aW9uIG9mIGVhY2ggc3RlcC4KLy8gVGhpcyB1c2VzIGEgUHJvbWlzZSB0byBibG9jayB0aGUgcHl0aG9uIHNpZGUgb24gY29tcGxldGlvbiBvZiBlYWNoIHN0ZXAsCi8vIHRoZW4gcGFzc2VzIHRoZSByZXN1bHQgb2YgdGhlIHByZXZpb3VzIHN0ZXAgYXMgdGhlIGlucHV0IHRvIHRoZSBuZXh0IHN0ZXAuCmZ1bmN0aW9uIF91cGxvYWRGaWxlc0NvbnRpbnVlKG91dHB1dElkKSB7CiAgY29uc3Qgb3V0cHV0RWxlbWVudCA9IGRvY3VtZW50LmdldEVsZW1lbnRCeUlkKG91dHB1dElkKTsKICBjb25zdCBzdGVwcyA9IG91dHB1dEVsZW1lbnQuc3RlcHM7CgogIGNvbnN0IG5leHQgPSBzdGVwcy5uZXh0KG91dHB1dEVsZW1lbnQubGFzdFByb21pc2VWYWx1ZSk7CiAgcmV0dXJuIFByb21pc2UucmVzb2x2ZShuZXh0LnZhbHVlLnByb21pc2UpLnRoZW4oKHZhbHVlKSA9PiB7CiAgICAvLyBDYWNoZSB0aGUgbGFzdCBwcm9taXNlIHZhbHVlIHRvIG1ha2UgaXQgYXZhaWxhYmxlIHRvIHRoZSBuZXh0CiAgICAvLyBzdGVwIG9mIHRoZSBnZW5lcmF0b3IuCiAgICBvdXRwdXRFbGVtZW50Lmxhc3RQcm9taXNlVmFsdWUgPSB2YWx1ZTsKICAgIHJldHVybiBuZXh0LnZhbHVlLnJlc3BvbnNlOwogIH0pOwp9CgovKioKICogR2VuZXJhdG9yIGZ1bmN0aW9uIHdoaWNoIGlzIGNhbGxlZCBiZXR3ZWVuIGVhY2ggYXN5bmMgc3RlcCBvZiB0aGUgdXBsb2FkCiAqIHByb2Nlc3MuCiAqIEBwYXJhbSB7c3RyaW5nfSBpbnB1dElkIEVsZW1lbnQgSUQgb2YgdGhlIGlucHV0IGZpbGUgcGlja2VyIGVsZW1lbnQuCiAqIEBwYXJhbSB7c3RyaW5nfSBvdXRwdXRJZCBFbGVtZW50IElEIG9mIHRoZSBvdXRwdXQgZGlzcGxheS4KICogQHJldHVybiB7IUl0ZXJhYmxlPCFPYmplY3Q+fSBJdGVyYWJsZSBvZiBuZXh0IHN0ZXBzLgogKi8KZnVuY3Rpb24qIHVwbG9hZEZpbGVzU3RlcChpbnB1dElkLCBvdXRwdXRJZCkgewogIGNvbnN0IGlucHV0RWxlbWVudCA9IGRvY3VtZW50LmdldEVsZW1lbnRCeUlkKGlucHV0SWQpOwogIGlucHV0RWxlbWVudC5kaXNhYmxlZCA9IGZhbHNlOwoKICBjb25zdCBvdXRwdXRFbGVtZW50ID0gZG9jdW1lbnQuZ2V0RWxlbWVudEJ5SWQob3V0cHV0SWQpOwogIG91dHB1dEVsZW1lbnQuaW5uZXJIVE1MID0gJyc7CgogIGNvbnN0IHBpY2tlZFByb21pc2UgPSBuZXcgUHJvbWlzZSgocmVzb2x2ZSkgPT4gewogICAgaW5wdXRFbGVtZW50LmFkZEV2ZW50TGlzdGVuZXIoJ2NoYW5nZScsIChlKSA9PiB7CiAgICAgIHJlc29sdmUoZS50YXJnZXQuZmlsZXMpOwogICAgfSk7CiAgfSk7CgogIGNvbnN0IGNhbmNlbCA9IGRvY3VtZW50LmNyZWF0ZUVsZW1lbnQoJ2J1dHRvbicpOwogIGlucHV0RWxlbWVudC5wYXJlbnRFbGVtZW50LmFwcGVuZENoaWxkKGNhbmNlbCk7CiAgY2FuY2VsLnRleHRDb250ZW50ID0gJ0NhbmNlbCB1cGxvYWQnOwogIGNvbnN0IGNhbmNlbFByb21pc2UgPSBuZXcgUHJvbWlzZSgocmVzb2x2ZSkgPT4gewogICAgY2FuY2VsLm9uY2xpY2sgPSAoKSA9PiB7CiAgICAgIHJlc29sdmUobnVsbCk7CiAgICB9OwogIH0pOwoKICAvLyBXYWl0IGZvciB0aGUgdXNlciB0byBwaWNrIHRoZSBmaWxlcy4KICBjb25zdCBmaWxlcyA9IHlpZWxkIHsKICAgIHByb21pc2U6IFByb21pc2UucmFjZShbcGlja2VkUHJvbWlzZSwgY2FuY2VsUHJvbWlzZV0pLAogICAgcmVzcG9uc2U6IHsKICAgICAgYWN0aW9uOiAnc3RhcnRpbmcnLAogICAgfQogIH07CgogIGNhbmNlbC5yZW1vdmUoKTsKCiAgLy8gRGlzYWJsZSB0aGUgaW5wdXQgZWxlbWVudCBzaW5jZSBmdXJ0aGVyIHBpY2tzIGFyZSBub3QgYWxsb3dlZC4KICBpbnB1dEVsZW1lbnQuZGlzYWJsZWQgPSB0cnVlOwoKICBpZiAoIWZpbGVzKSB7CiAgICByZXR1cm4gewogICAgICByZXNwb25zZTogewogICAgICAgIGFjdGlvbjogJ2NvbXBsZXRlJywKICAgICAgfQogICAgfTsKICB9CgogIGZvciAoY29uc3QgZmlsZSBvZiBmaWxlcykgewogICAgY29uc3QgbGkgPSBkb2N1bWVudC5jcmVhdGVFbGVtZW50KCdsaScpOwogICAgbGkuYXBwZW5kKHNwYW4oZmlsZS5uYW1lLCB7Zm9udFdlaWdodDogJ2JvbGQnfSkpOwogICAgbGkuYXBwZW5kKHNwYW4oCiAgICAgICAgYCgke2ZpbGUudHlwZSB8fCAnbi9hJ30pIC0gJHtmaWxlLnNpemV9IGJ5dGVzLCBgICsKICAgICAgICBgbGFzdCBtb2RpZmllZDogJHsKICAgICAgICAgICAgZmlsZS5sYXN0TW9kaWZpZWREYXRlID8gZmlsZS5sYXN0TW9kaWZpZWREYXRlLnRvTG9jYWxlRGF0ZVN0cmluZygpIDoKICAgICAgICAgICAgICAgICAgICAgICAgICAgICAgICAgICAgJ24vYSd9IC0gYCkpOwogICAgY29uc3QgcGVyY2VudCA9IHNwYW4oJzAlIGRvbmUnKTsKICAgIGxpLmFwcGVuZENoaWxkKHBlcmNlbnQpOwoKICAgIG91dHB1dEVsZW1lbnQuYXBwZW5kQ2hpbGQobGkpOwoKICAgIGNvbnN0IGZpbGVEYXRhUHJvbWlzZSA9IG5ldyBQcm9taXNlKChyZXNvbHZlKSA9PiB7CiAgICAgIGNvbnN0IHJlYWRlciA9IG5ldyBGaWxlUmVhZGVyKCk7CiAgICAgIHJlYWRlci5vbmxvYWQgPSAoZSkgPT4gewogICAgICAgIHJlc29sdmUoZS50YXJnZXQucmVzdWx0KTsKICAgICAgfTsKICAgICAgcmVhZGVyLnJlYWRBc0FycmF5QnVmZmVyKGZpbGUpOwogICAgfSk7CiAgICAvLyBXYWl0IGZvciB0aGUgZGF0YSB0byBiZSByZWFkeS4KICAgIGxldCBmaWxlRGF0YSA9IHlpZWxkIHsKICAgICAgcHJvbWlzZTogZmlsZURhdGFQcm9taXNlLAogICAgICByZXNwb25zZTogewogICAgICAgIGFjdGlvbjogJ2NvbnRpbnVlJywKICAgICAgfQogICAgfTsKCiAgICAvLyBVc2UgYSBjaHVua2VkIHNlbmRpbmcgdG8gYXZvaWQgbWVzc2FnZSBzaXplIGxpbWl0cy4gU2VlIGIvNjIxMTU2NjAuCiAgICBsZXQgcG9zaXRpb24gPSAwOwogICAgZG8gewogICAgICBjb25zdCBsZW5ndGggPSBNYXRoLm1pbihmaWxlRGF0YS5ieXRlTGVuZ3RoIC0gcG9zaXRpb24sIE1BWF9QQVlMT0FEX1NJWkUpOwogICAgICBjb25zdCBjaHVuayA9IG5ldyBVaW50OEFycmF5KGZpbGVEYXRhLCBwb3NpdGlvbiwgbGVuZ3RoKTsKICAgICAgcG9zaXRpb24gKz0gbGVuZ3RoOwoKICAgICAgY29uc3QgYmFzZTY0ID0gYnRvYShTdHJpbmcuZnJvbUNoYXJDb2RlLmFwcGx5KG51bGwsIGNodW5rKSk7CiAgICAgIHlpZWxkIHsKICAgICAgICByZXNwb25zZTogewogICAgICAgICAgYWN0aW9uOiAnYXBwZW5kJywKICAgICAgICAgIGZpbGU6IGZpbGUubmFtZSwKICAgICAgICAgIGRhdGE6IGJhc2U2NCwKICAgICAgICB9LAogICAgICB9OwoKICAgICAgbGV0IHBlcmNlbnREb25lID0gZmlsZURhdGEuYnl0ZUxlbmd0aCA9PT0gMCA/CiAgICAgICAgICAxMDAgOgogICAgICAgICAgTWF0aC5yb3VuZCgocG9zaXRpb24gLyBmaWxlRGF0YS5ieXRlTGVuZ3RoKSAqIDEwMCk7CiAgICAgIHBlcmNlbnQudGV4dENvbnRlbnQgPSBgJHtwZXJjZW50RG9uZX0lIGRvbmVgOwoKICAgIH0gd2hpbGUgKHBvc2l0aW9uIDwgZmlsZURhdGEuYnl0ZUxlbmd0aCk7CiAgfQoKICAvLyBBbGwgZG9uZS4KICB5aWVsZCB7CiAgICByZXNwb25zZTogewogICAgICBhY3Rpb246ICdjb21wbGV0ZScsCiAgICB9CiAgfTsKfQoKc2NvcGUuZ29vZ2xlID0gc2NvcGUuZ29vZ2xlIHx8IHt9OwpzY29wZS5nb29nbGUuY29sYWIgPSBzY29wZS5nb29nbGUuY29sYWIgfHwge307CnNjb3BlLmdvb2dsZS5jb2xhYi5fZmlsZXMgPSB7CiAgX3VwbG9hZEZpbGVzLAogIF91cGxvYWRGaWxlc0NvbnRpbnVlLAp9Owp9KShzZWxmKTsK",
              "ok": true,
              "headers": [
                [
                  "content-type",
                  "application/javascript"
                ]
              ],
              "status": 200,
              "status_text": ""
            }
          },
          "base_uri": "https://localhost:8080/",
          "height": 74
        },
        "id": "f65CCAsIE1s-",
        "outputId": "af7334b5-13b9-4f3c-fa9b-26c9058b6518"
      },
      "execution_count": null,
      "outputs": [
        {
          "output_type": "display_data",
          "data": {
            "text/plain": [
              "<IPython.core.display.HTML object>"
            ],
            "text/html": [
              "\n",
              "     <input type=\"file\" id=\"files-85c99af8-66b7-45f2-b65b-52614f0c501f\" name=\"files[]\" multiple disabled\n",
              "        style=\"border:none\" />\n",
              "     <output id=\"result-85c99af8-66b7-45f2-b65b-52614f0c501f\">\n",
              "      Upload widget is only available when the cell has been executed in the\n",
              "      current browser session. Please rerun this cell to enable.\n",
              "      </output>\n",
              "      <script src=\"/nbextensions/google.colab/files.js\"></script> "
            ]
          },
          "metadata": {}
        },
        {
          "output_type": "stream",
          "name": "stdout",
          "text": [
            "Saving book.jpg to book.jpg\n"
          ]
        }
      ]
    },
    {
      "cell_type": "code",
      "source": [
        "from IPython.display import Image\n",
        "Image(filename='book.jpg', width=600, height=300)"
      ],
      "metadata": {
        "colab": {
          "base_uri": "https://localhost:8080/",
          "height": 317
        },
        "id": "y81I2aBXFloL",
        "outputId": "bc3d57b1-b79b-4cc1-dcf9-db02ca1aa60c"
      },
      "execution_count": null,
      "outputs": [
        {
          "output_type": "execute_result",
          "data": {
            "image/jpeg": "[encoded data removed]",
            "text/plain": [
              "<IPython.core.display.Image object>"
            ]
          },
          "metadata": {
            "image/jpeg": {
              "width": 600,
              "height": 300
            }
          },
          "execution_count": 38
        }
      ]
    },
    {
      "cell_type": "code",
      "source": [
        "from IPython.display import Image\n",
        "Image(url='https://www.adazing.com/wp-content/uploads/2012/03/agold-book.png',width=500,height=300)"
      ],
      "metadata": {
        "colab": {
          "base_uri": "https://localhost:8080/",
          "height": 321
        },
        "id": "LG4e-Mw9G7qs",
        "outputId": "d1ccb17a-4b25-446c-94c9-1934eeca59a0"
      },
      "execution_count": null,
      "outputs": [
        {
          "output_type": "execute_result",
          "data": {
            "text/html": [
              "<img src=\"https://www.adazing.com/wp-content/uploads/2012/03/agold-book.png\" width=\"500\" height=\"300\"/>"
            ],
            "text/plain": [
              "<IPython.core.display.Image object>"
            ]
          },
          "metadata": {},
          "execution_count": 13
        }
      ]
    },
    {
      "cell_type": "code",
      "source": [
        "from IPython.display import HTML\n",
        "HTML('<iframe width=\"800\" height=\"500\" src=\"https://www.youtube.com/embed/DhT4fB7yY9o?rel=0&amp;controls=0&amp;showinfo=0\" frameborder=\"0\" allowfullscreen></iframe>')"
      ],
      "metadata": {
        "colab": {
          "base_uri": "https://localhost:8080/",
          "height": 521
        },
        "id": "r3XEGe1rHtPF",
        "outputId": "2647251a-d410-417c-a8bb-7e95f2524053"
      },
      "execution_count": null,
      "outputs": [
        {
          "output_type": "execute_result",
          "data": {
            "text/plain": [
              "<IPython.core.display.HTML object>"
            ],
            "text/html": [
              "<iframe width=\"800\" height=\"500\" src=\"https://www.youtube.com/embed/DhT4fB7yY9o?rel=0&amp;controls=0&amp;showinfo=0\" frameborder=\"0\" allowfullscreen></iframe>"
            ]
          },
          "metadata": {},
          "execution_count": 20
        }
      ]
    },
    {
      "cell_type": "code",
      "source": [
        "from IPython.lib.display import YouTubeVideo\n",
        "YouTubeVideo('I5czaoc_rGY')"
      ],
      "metadata": {
        "colab": {
          "base_uri": "https://localhost:8080/",
          "height": 321
        },
        "id": "9Hb--slzIluP",
        "outputId": "22679f58-3e8c-44e4-8fec-ee90c967081c"
      },
      "execution_count": null,
      "outputs": [
        {
          "output_type": "execute_result",
          "data": {
            "text/plain": [
              "<IPython.lib.display.YouTubeVideo at 0x7fc898bb1090>"
            ],
            "text/html": [
              "\n",
              "        <iframe\n",
              "            width=\"400\"\n",
              "            height=\"300\"\n",
              "            src=\"https://www.youtube.com/embed/I5czaoc_rGY\"\n",
              "            frameborder=\"0\"\n",
              "            allowfullscreen\n",
              "        ></iframe>\n",
              "        "
            ],
            "image/jpeg": "[encoded data removed]"
          },
          "metadata": {},
          "execution_count": 22
        }
      ]
    }
  ]
}